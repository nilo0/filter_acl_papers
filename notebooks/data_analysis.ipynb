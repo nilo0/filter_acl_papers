{
 "cells": [
  {
   "cell_type": "code",
   "execution_count": null,
   "metadata": {},
   "outputs": [],
   "source": [
    "import os\n",
    "import time\n",
    "import pandas as pd\n",
    "\n",
    "from acl_papers.analysis import analyse_abstract\n",
    "from acl_papers.modules import check_relevant\n",
    "from acl_papers import ACL_PAPER_PATH\n",
    "\n",
    "pd.set_option('display.max_colwidth', None) \n",
    "MODEL1=\"gpt-3.5-turbo\"\n",
    "MODEL2=\"gpt-4o\""
   ]
  },
  {
   "cell_type": "code",
   "execution_count": null,
   "metadata": {},
   "outputs": [],
   "source": [
    "path = os.listdir(ACL_PAPER_PATH)\n",
    "data_path = os.path.join(ACL_PAPER_PATH, path[0])\n",
    "\n",
    "df = pd.read_csv(data_path)"
   ]
  },
  {
   "cell_type": "code",
   "execution_count": null,
   "metadata": {},
   "outputs": [],
   "source": [
    "# judgments1 = []\n",
    "# judgments2 = []\n",
    "\n",
    "# for i, row in df.iterrows():\n",
    "#     verdict1=analyse_abstract(abstract=row['abstract'], model=MODEL1)\n",
    "#     judgments1.append(verdict1)\n",
    "\n",
    "#     verdict2=analyse_abstract(abstract=row['abstract'], model=MODEL2)\n",
    "#     judgments2.append(verdict2)\n",
    "    \n",
    "#     time.sleep(3)\n",
    "\n",
    "\n",
    "# df['raw_gpt_3.5'] = judgments1\n",
    "# df['raw_gpt_4o'] = judgments2\n",
    "# df.to_csv(data_path, index=False)"
   ]
  },
  {
   "cell_type": "code",
   "execution_count": null,
   "metadata": {},
   "outputs": [],
   "source": [
    "df['relevancy_gpt_3.5'] = df['raw_gpt_3.5'].apply(check_relevant)\n",
    "df['relevancy_gpt_4o'] = df['raw_gpt_4o'].apply(check_relevant)\n",
    "relevant_papers = df.loc[df['relevancy_gpt_4o']==True][['title', 'length', 'raw_gpt_4o']]\n",
    "relevant_papers"
   ]
  }
 ],
 "metadata": {
  "kernelspec": {
   "display_name": "Python 3",
   "language": "python",
   "name": "python3"
  },
  "language_info": {
   "codemirror_mode": {
    "name": "ipython",
    "version": 3
   },
   "file_extension": ".py",
   "mimetype": "text/x-python",
   "name": "python",
   "nbconvert_exporter": "python",
   "pygments_lexer": "ipython3",
   "version": "3.10.12"
  }
 },
 "nbformat": 4,
 "nbformat_minor": 2
}
