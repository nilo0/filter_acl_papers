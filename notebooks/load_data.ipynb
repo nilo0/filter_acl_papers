{
 "cells": [
  {
   "cell_type": "code",
   "execution_count": 19,
   "metadata": {},
   "outputs": [],
   "source": [
    "import sys\n",
    "import os\n",
    "\n",
    "from acl_papers import crawler\n",
    "from acl_papers import ACL_PAPER_PATH\n",
    "\n",
    "PUB_YEAR = 2024\n",
    "URLS = {\n",
    "    'short': f'https://aclanthology.org/volumes/{PUB_YEAR}.eacl-short/',\n",
    "    'long': f'https://aclanthology.org/volumes/{PUB_YEAR}.eacl-long/'\n",
    "}\n",
    "COLUMNS = ['length', 'title', 'abstract', 'pub_year', 'relevancy', 'related_domain']\n",
    "ROWS = []\n",
    "output_file = os.path.join(ACL_PAPER_PATH, 'acl_data.csv')\n"
   ]
  },
  {
   "cell_type": "code",
   "execution_count": 22,
   "metadata": {},
   "outputs": [],
   "source": [
    "df = crawler.load_or_create_df(ACL_PAPER_PATH, columns=COLUMNS)\n",
    "\n",
    "for length, url in URLS.items():\n",
    "    soup = crawler.crawling(url=url)\n",
    "    html_titles = soup.find_all('p', class_=\"d-sm-flex align-items-stretch\")[1:]\n",
    "    html_abstracts = soup.find_all('div', class_=\"card bg-light mb-2 mb-lg-3 collapse abstract-collapse\")\n",
    "    \n",
    "    assert(len(html_titles) == len(html_abstracts))\n",
    "\n",
    "    for html_title, html_abstract in zip(html_titles, html_abstracts):\n",
    "        title = html_title.find_all(lambda tag: tag.name == 'a' and 'class' in tag.attrs and tag.attrs['class'] == ['align-middle'])\n",
    "        assert(len(title) == 1)\n",
    "        \n",
    "        abstract = html_abstract.find_all(lambda tag: tag.name == 'div' and 'class' in tag.attrs and tag.attrs['class'] == ['card-body', 'p-3', 'small'])\n",
    "        assert(len(abstract) == 1)\n",
    "        row = dict()\n",
    "               \n",
    "        row['length'] = length\n",
    "        row['title'] = title[0].text\n",
    "        row['abstract'] = abstract[0].text\n",
    "        row['pub_year'] = PUB_YEAR\n",
    "        row['relevancy'] = None\n",
    "        row['related_domain'] = None\n",
    "\n",
    "        ROWS.append(row)\n",
    "\n",
    "    \n",
    "    \n"
   ]
  },
  {
   "cell_type": "code",
   "execution_count": 25,
   "metadata": {},
   "outputs": [],
   "source": [
    "\n",
    "crawler.update_dataframe(path=output_file, columns=COLUMNS, new_rows=ROWS)"
   ]
  }
 ],
 "metadata": {
  "kernelspec": {
   "display_name": ".venv",
   "language": "python",
   "name": "python3"
  },
  "language_info": {
   "codemirror_mode": {
    "name": "ipython",
    "version": 3
   },
   "file_extension": ".py",
   "mimetype": "text/x-python",
   "name": "python",
   "nbconvert_exporter": "python",
   "pygments_lexer": "ipython3",
   "version": "3.10.12"
  }
 },
 "nbformat": 4,
 "nbformat_minor": 2
}
